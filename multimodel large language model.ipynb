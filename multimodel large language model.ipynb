{
 "cells": [
  {
   "cell_type": "code",
   "execution_count": 1,
   "id": "af73b64b-071a-4b68-ad98-1de3471c12be",
   "metadata": {},
   "outputs": [
    {
     "name": "stdout",
     "output_type": "stream",
     "text": [
      "Requirement already satisfied: openai in c:\\users\\nilesh\\anaconda3\\lib\\site-packages (1.44.0)\n",
      "Requirement already satisfied: anyio<5,>=3.5.0 in c:\\users\\nilesh\\anaconda3\\lib\\site-packages (from openai) (4.2.0)\n",
      "Requirement already satisfied: distro<2,>=1.7.0 in c:\\users\\nilesh\\anaconda3\\lib\\site-packages (from openai) (1.8.0)\n",
      "Requirement already satisfied: httpx<1,>=0.23.0 in c:\\users\\nilesh\\anaconda3\\lib\\site-packages (from openai) (0.26.0)\n",
      "Requirement already satisfied: jiter<1,>=0.4.0 in c:\\users\\nilesh\\anaconda3\\lib\\site-packages (from openai) (0.5.0)\n",
      "Requirement already satisfied: pydantic<3,>=1.9.0 in c:\\users\\nilesh\\anaconda3\\lib\\site-packages (from openai) (1.10.12)\n",
      "Requirement already satisfied: sniffio in c:\\users\\nilesh\\anaconda3\\lib\\site-packages (from openai) (1.3.0)\n",
      "Requirement already satisfied: tqdm>4 in c:\\users\\nilesh\\anaconda3\\lib\\site-packages (from openai) (4.65.0)\n",
      "Requirement already satisfied: typing-extensions<5,>=4.11 in c:\\users\\nilesh\\anaconda3\\lib\\site-packages (from openai) (4.12.2)\n",
      "Requirement already satisfied: idna>=2.8 in c:\\users\\nilesh\\anaconda3\\lib\\site-packages (from anyio<5,>=3.5.0->openai) (3.4)\n",
      "Requirement already satisfied: certifi in c:\\users\\nilesh\\anaconda3\\lib\\site-packages (from httpx<1,>=0.23.0->openai) (2024.7.4)\n",
      "Requirement already satisfied: httpcore==1.* in c:\\users\\nilesh\\anaconda3\\lib\\site-packages (from httpx<1,>=0.23.0->openai) (1.0.2)\n",
      "Requirement already satisfied: h11<0.15,>=0.13 in c:\\users\\nilesh\\anaconda3\\lib\\site-packages (from httpcore==1.*->httpx<1,>=0.23.0->openai) (0.14.0)\n",
      "Requirement already satisfied: colorama in c:\\users\\nilesh\\anaconda3\\lib\\site-packages (from tqdm>4->openai) (0.4.6)\n",
      "Note: you may need to restart the kernel to use updated packages.\n"
     ]
    }
   ],
   "source": [
    "pip install openai\n"
   ]
  },
  {
   "cell_type": "code",
   "execution_count": 3,
   "id": "c2d8e915-184c-4265-8a3b-691b5239bec9",
   "metadata": {},
   "outputs": [
    {
     "name": "stdout",
     "output_type": "stream",
     "text": [
      "Note: you may need to restart the kernel to use updated packages.\n"
     ]
    },
    {
     "name": "stderr",
     "output_type": "stream",
     "text": [
      "ERROR: Could not find a version that satisfies the requirement clip-api (from versions: none)\n",
      "ERROR: No matching distribution found for clip-api\n"
     ]
    }
   ],
   "source": [
    "pip install transformer"
   ]
  },
  {
   "cell_type": "code",
   "execution_count": null,
   "id": "2ddf5dea-309b-449f-a3f5-451c3bc41818",
   "metadata": {},
   "outputs": [],
   "source": [
    "pip install torch"
   ]
  },
  {
   "cell_type": "code",
   "execution_count": null,
   "id": "e0d66481-214c-4914-9dd8-9290015339c7",
   "metadata": {},
   "outputs": [],
   "source": [
    "import torch"
   ]
  },
  {
   "cell_type": "code",
   "execution_count": null,
   "id": "9b716604-426d-4bb5-a0a7-8bc653380697",
   "metadata": {},
   "outputs": [],
   "source": [
    "pip install clip-api-service"
   ]
  },
  {
   "cell_type": "code",
   "execution_count": null,
   "id": "3ff0323c-30a3-4838-921b-5a44dafac90d",
   "metadata": {},
   "outputs": [],
   "source": [
    "clip-api-service serve --model-name=ViT-B-32:openai"
   ]
  },
  {
   "cell_type": "code",
   "execution_count": null,
   "id": "59f02365-aa41-4e63-b322-f6b237438a1f",
   "metadata": {},
   "outputs": [],
   "source": [
    "import clip"
   ]
  },
  {
   "cell_type": "code",
   "execution_count": null,
   "id": "0efa9b18-5506-4ff6-804b-b9c505608c8c",
   "metadata": {},
   "outputs": [],
   "source": [
    "import torch\n",
    "import clip\n",
    "from PIL import Image\n",
    "from transformers import GPT2Tokenizer, GPT2LMHeadModel\n",
    "\n",
    "# Load CLIP model\n",
    "device = \"cuda\" if torch.cuda.is_available() else \"cpu\"\n",
    "clip_model, preprocess = clip.load(\"ViT-B/32\", device=device)\n",
    "\n",
    "# Load GPT model for text generation\n",
    "gpt_model = GPT2LMHeadModel.from_pretrained('gpt2')\n",
    "tokenizer = GPT2Tokenizer.from_pretrained('gpt2')\n",
    "gpt_model = gpt_model.to(device)\n",
    "\n",
    "# Preprocess the image (input object, screenshot)\n",
    "def preprocess_image(image_path):\n",
    "    image = Image.open(image_path)\n",
    "    image = preprocess(image).unsqueeze(0).to(device)\n",
    "    return image\n",
    "\n",
    "# Generate CLIP embedding\n",
    "def get_clip_embedding(image, context=\"\"):\n",
    "    # Preprocess the image\n",
    "    image_tensor = preprocess_image(image)\n",
    "\n",
    "    # Tokenize the context (if provided)\n",
    "    if context:\n",
    "        text_tokens = clip.tokenize([context]).to(device)\n",
    "    else:\n",
    "        text_tokens = clip.tokenize([\"This is an image\"]).to(device)\n",
    "\n",
    "    # Generate image and text embeddings\n",
    "    with torch.no_grad():\n",
    "        image_features = clip_model.encode_image(image_tensor)\n",
    "        text_features = clip_model.encode_text(text_tokens)\n",
    "\n",
    "    return image_features, text_features\n",
    "\n",
    "# Generate test case using GPT\n",
    "def generate_test_cases(text_prompt):\n",
    "    inputs = tokenizer.encode(text_prompt, return_tensors=\"pt\").to(device)\n",
    "    outputs = gpt_model.generate(inputs, max_length=150, num_return_sequences=1)\n",
    "    return tokenizer.decode(outputs[0], skip_special_tokens=True)\n",
    "\n",
    "# Main function to detect features and generate test cases\n",
    "def detect_features_and_generate_tests(image_path, context=\"\"):\n",
    "    # Get embeddings from CLIP\n",
    "    image_features, text_features = get_clip_embedding(image_path, context)\n",
    "\n",
    "    # Combine the image and text features (you can apply more complex processing here)\n",
    "    combined_features = image_features + text_features\n",
    "\n",
    "    # Generate text description from features\n",
    "    # This is a placeholder; you would use the combined features with a custom head to generate descriptions\n",
    "    description = \"Detected digital features in the image related to \" + context\n",
    "\n",
    "    # Generate test cases based on the description\n",
    "    test_cases = generate_test_cases(f\"Test cases for: {description}\")\n",
    "    \n",
    "    return test_cases\n",
    "\n",
    "# Example usage\n",
    "image_path = \"path_to_screenshot_image.png\"\n",
    "context = \"Login screen for web application\"\n",
    "\n",
    "test_cases = detect_features_and_generate_tests(image_path, context)\n",
    "print(test_cases)\n"
   ]
  },
  {
   "cell_type": "code",
   "execution_count": null,
   "id": "98bed776-86a8-40dd-95d5-30d2624a8b8c",
   "metadata": {},
   "outputs": [],
   "source": []
  }
 ],
 "metadata": {
  "kernelspec": {
   "display_name": "Python 3 (ipykernel)",
   "language": "python",
   "name": "python3"
  },
  "language_info": {
   "codemirror_mode": {
    "name": "ipython",
    "version": 3
   },
   "file_extension": ".py",
   "mimetype": "text/x-python",
   "name": "python",
   "nbconvert_exporter": "python",
   "pygments_lexer": "ipython3",
   "version": "3.11.7"
  }
 },
 "nbformat": 4,
 "nbformat_minor": 5
}
